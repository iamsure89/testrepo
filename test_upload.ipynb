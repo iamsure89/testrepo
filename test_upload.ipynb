{
 "cells": [
  {
   "cell_type": "code",
   "execution_count": null,
   "id": "8d4d1c8b",
   "metadata": {},
   "outputs": [],
   "source": [
    "# A test file"
   ]
  },
  {
   "cell_type": "markdown",
   "id": "c8cea325",
   "metadata": {},
   "source": [
    "**This is a python file with markdown text**"
   ]
  },
  {
   "cell_type": "code",
   "execution_count": null,
   "id": "b95269e0",
   "metadata": {},
   "outputs": [],
   "source": []
  }
 ],
 "metadata": {
  "kernelspec": {
   "display_name": "Python 3 (ipykernel)",
   "language": "python",
   "name": "python3"
  },
  "language_info": {
   "codemirror_mode": {
    "name": "ipython",
    "version": 3
   },
   "file_extension": ".py",
   "mimetype": "text/x-python",
   "name": "python",
   "nbconvert_exporter": "python",
   "pygments_lexer": "ipython3",
   "version": "3.10.4"
  }
 },
 "nbformat": 4,
 "nbformat_minor": 5
}
